{
 "cells": [
  {
   "cell_type": "markdown",
   "metadata": {
    "collapsed": false
   },
   "source": [
    "# Interactive Visualization of Global Economic Freedom"
   ]
  },
  {
   "cell_type": "markdown",
   "metadata": {},
   "source": [
    "Compiled by the Heritage Foundation, the Index of Economic Freedom consists of 10 quantitative and qualitative factors of economic freedom, each graded on a scale of 0 to 100. This project aims to visualize this information on an interactive map that provides a useful overview of global economic freedom and encourages users to explore the data. I employ the module plotly for this purpose, focusing primariy on the choropleth function. "
   ]
  },
  {
   "cell_type": "markdown",
   "metadata": {},
   "source": [
    "Fist import the data and filter to keep only 2016 data. My purpose is to show global overview, not time series, so I am only concerned with most recent data. "
   ]
  },
  {
   "cell_type": "code",
   "execution_count": 1,
   "metadata": {
    "collapsed": false
   },
   "outputs": [
    {
     "data": {
      "text/html": [
       "<div>\n",
       "<table border=\"1\" class=\"dataframe\">\n",
       "  <thead>\n",
       "    <tr style=\"text-align: right;\">\n",
       "      <th></th>\n",
       "      <th>name</th>\n",
       "      <th>index year</th>\n",
       "      <th>overall score</th>\n",
       "      <th>property rights</th>\n",
       "      <th>freedom from corruption</th>\n",
       "      <th>fiscal freedom</th>\n",
       "      <th>government spending</th>\n",
       "      <th>business freedom</th>\n",
       "      <th>labor freedom</th>\n",
       "      <th>monetary freedom</th>\n",
       "      <th>trade freedom</th>\n",
       "      <th>investment freedom</th>\n",
       "      <th>financial freedom</th>\n",
       "    </tr>\n",
       "  </thead>\n",
       "  <tbody>\n",
       "    <tr>\n",
       "      <th>0</th>\n",
       "      <td>Afghanistan</td>\n",
       "      <td>2016</td>\n",
       "      <td>NaN</td>\n",
       "      <td>NaN</td>\n",
       "      <td>12.0</td>\n",
       "      <td>91.6</td>\n",
       "      <td>81.2</td>\n",
       "      <td>56.6</td>\n",
       "      <td>63.2</td>\n",
       "      <td>NaN</td>\n",
       "      <td>NaN</td>\n",
       "      <td>55.0</td>\n",
       "      <td>NaN</td>\n",
       "    </tr>\n",
       "    <tr>\n",
       "      <th>1</th>\n",
       "      <td>Albania</td>\n",
       "      <td>2016</td>\n",
       "      <td>65.9</td>\n",
       "      <td>35.0</td>\n",
       "      <td>33.0</td>\n",
       "      <td>87.8</td>\n",
       "      <td>75.0</td>\n",
       "      <td>67.6</td>\n",
       "      <td>51.5</td>\n",
       "      <td>81.7</td>\n",
       "      <td>87.6</td>\n",
       "      <td>70.0</td>\n",
       "      <td>70.0</td>\n",
       "    </tr>\n",
       "    <tr>\n",
       "      <th>2</th>\n",
       "      <td>Algeria</td>\n",
       "      <td>2016</td>\n",
       "      <td>50.1</td>\n",
       "      <td>25.0</td>\n",
       "      <td>36.0</td>\n",
       "      <td>81.0</td>\n",
       "      <td>59.4</td>\n",
       "      <td>62.1</td>\n",
       "      <td>48.2</td>\n",
       "      <td>68.1</td>\n",
       "      <td>60.8</td>\n",
       "      <td>30.0</td>\n",
       "      <td>30.0</td>\n",
       "    </tr>\n",
       "    <tr>\n",
       "      <th>3</th>\n",
       "      <td>Angola</td>\n",
       "      <td>2016</td>\n",
       "      <td>48.9</td>\n",
       "      <td>15.0</td>\n",
       "      <td>19.0</td>\n",
       "      <td>87.8</td>\n",
       "      <td>50.1</td>\n",
       "      <td>50.3</td>\n",
       "      <td>44.8</td>\n",
       "      <td>72.2</td>\n",
       "      <td>70.2</td>\n",
       "      <td>40.0</td>\n",
       "      <td>40.0</td>\n",
       "    </tr>\n",
       "    <tr>\n",
       "      <th>4</th>\n",
       "      <td>Argentina</td>\n",
       "      <td>2016</td>\n",
       "      <td>43.8</td>\n",
       "      <td>15.0</td>\n",
       "      <td>34.0</td>\n",
       "      <td>66.1</td>\n",
       "      <td>51.3</td>\n",
       "      <td>56.0</td>\n",
       "      <td>43.9</td>\n",
       "      <td>44.0</td>\n",
       "      <td>67.4</td>\n",
       "      <td>30.0</td>\n",
       "      <td>30.0</td>\n",
       "    </tr>\n",
       "  </tbody>\n",
       "</table>\n",
       "</div>"
      ],
      "text/plain": [
       "          name  index year  overall score  property rights  \\\n",
       "0  Afghanistan        2016            NaN              NaN   \n",
       "1      Albania        2016           65.9             35.0   \n",
       "2      Algeria        2016           50.1             25.0   \n",
       "3       Angola        2016           48.9             15.0   \n",
       "4    Argentina        2016           43.8             15.0   \n",
       "\n",
       "   freedom from corruption  fiscal freedom  government spending  \\\n",
       "0                     12.0            91.6                 81.2   \n",
       "1                     33.0            87.8                 75.0   \n",
       "2                     36.0            81.0                 59.4   \n",
       "3                     19.0            87.8                 50.1   \n",
       "4                     34.0            66.1                 51.3   \n",
       "\n",
       "   business freedom  labor freedom  monetary freedom  trade freedom  \\\n",
       "0              56.6           63.2               NaN            NaN   \n",
       "1              67.6           51.5              81.7           87.6   \n",
       "2              62.1           48.2              68.1           60.8   \n",
       "3              50.3           44.8              72.2           70.2   \n",
       "4              56.0           43.9              44.0           67.4   \n",
       "\n",
       "   investment freedom  financial freedom  \n",
       "0                55.0                NaN  \n",
       "1                70.0               70.0  \n",
       "2                30.0               30.0  \n",
       "3                40.0               40.0  \n",
       "4                30.0               30.0  "
      ]
     },
     "execution_count": 1,
     "metadata": {},
     "output_type": "execute_result"
    }
   ],
   "source": [
    "import pandas as pd\n",
    "data = pd.read_csv('data.csv')\n",
    "data2016 = data[data['index year'] == 2016]\n",
    "data2016.head()"
   ]
  },
  {
   "cell_type": "markdown",
   "metadata": {},
   "source": [
    "Upon inspection, it appears that some entries for country names (such as Bangladesh) contain trailing spaces, making it impossible for plotly to recognize the countries. "
   ]
  },
  {
   "cell_type": "code",
   "execution_count": 2,
   "metadata": {
    "collapsed": false
   },
   "outputs": [
    {
     "data": {
      "text/plain": [
       "'Bangladesh '"
      ]
     },
     "execution_count": 2,
     "metadata": {},
     "output_type": "execute_result"
    }
   ],
   "source": [
    "data2016['name'][10]"
   ]
  },
  {
   "cell_type": "markdown",
   "metadata": {},
   "source": [
    "My solution to this problem is to create a simple lambda function that strips all trailing spaces before and after a string and apply it to the column _name_."
   ]
  },
  {
   "cell_type": "code",
   "execution_count": 3,
   "metadata": {
    "collapsed": false
   },
   "outputs": [
    {
     "name": "stderr",
     "output_type": "stream",
     "text": [
      "/Users/SupremeLeader/anaconda/lib/python2.7/site-packages/ipykernel/__main__.py:1: SettingWithCopyWarning: \n",
      "A value is trying to be set on a copy of a slice from a DataFrame.\n",
      "Try using .loc[row_indexer,col_indexer] = value instead\n",
      "\n",
      "See the caveats in the documentation: http://pandas.pydata.org/pandas-docs/stable/indexing.html#indexing-view-versus-copy\n",
      "  if __name__ == '__main__':\n"
     ]
    }
   ],
   "source": [
    "data2016['name'] = data2016['name'].map(lambda x: x.strip())"
   ]
  },
  {
   "cell_type": "markdown",
   "metadata": {},
   "source": [
    "The data is still not ready for plot. Even though there is an option for plotly to use country names to match data to map, its default list of country name does not match the name in my data. This is quite common when it comes to country data. For example, some organization would display Russia as _Russia_, and others would display as _Russian Federation_. There is no standard to this so plotly's option to plot by country names is not very reliable. The alternative of using ISO-3 codes to plot is much better since ISO-3 is a standard. \n",
    "\n",
    "I use the module _countrycode_ to match the country names in the data to their respective ISO-3 codes and put them all into a new column."
   ]
  },
  {
   "cell_type": "code",
   "execution_count": 4,
   "metadata": {
    "collapsed": false
   },
   "outputs": [
    {
     "name": "stderr",
     "output_type": "stream",
     "text": [
      "/Users/SupremeLeader/anaconda/lib/python2.7/site-packages/ipykernel/__main__.py:2: SettingWithCopyWarning: \n",
      "A value is trying to be set on a copy of a slice from a DataFrame.\n",
      "Try using .loc[row_indexer,col_indexer] = value instead\n",
      "\n",
      "See the caveats in the documentation: http://pandas.pydata.org/pandas-docs/stable/indexing.html#indexing-view-versus-copy\n",
      "  from ipykernel import kernelapp as app\n"
     ]
    }
   ],
   "source": [
    "from countrycode import countrycode\n",
    "data2016['code'] = data2016['name'].map(lambda x: countrycode(codes = x, origin = 'country_name', target = 'iso3c'))"
   ]
  },
  {
   "cell_type": "markdown",
   "metadata": {},
   "source": [
    "Test to see if the function works. Since our list is rather long, printing _data2016['name']_ would only show the first and last few rows. Instead, I print all column values as strings to bypass this limit."
   ]
  },
  {
   "cell_type": "code",
   "execution_count": 5,
   "metadata": {
    "collapsed": false
   },
   "outputs": [
    {
     "name": "stdout",
     "output_type": "stream",
     "text": [
      "                                 name                   code\n",
      "0                         Afghanistan                    AFG\n",
      "1                             Albania                    ALB\n",
      "2                             Algeria                    DZA\n",
      "3                              Angola                    AGO\n",
      "4                           Argentina                    ARG\n",
      "5                             Armenia                    ARM\n",
      "6                           Australia                    AUS\n",
      "7                             Austria                    AUT\n",
      "8                          Azerbaijan                    AZE\n",
      "9                             Bahrain                    BHR\n",
      "10                         Bangladesh                    BGD\n",
      "11                           Barbados                    BRB\n",
      "12                            Belarus                    BLR\n",
      "13                            Belgium                    BEL\n",
      "14                             Belize                    BLZ\n",
      "15                              Benin                    BEN\n",
      "16                             Bhutan                    BTN\n",
      "17                            Bolivia                    BOL\n",
      "18             Bosnia and Herzegovina                    BIH\n",
      "19                           Botswana                    BWA\n",
      "20                             Brazil                    BRA\n",
      "21                  Brunei Darussalam                    BRN\n",
      "22                           Bulgaria                    BGR\n",
      "23                       Burkina Faso                    BFA\n",
      "24                              Burma                    MMR\n",
      "25                            Burundi                    BDI\n",
      "26                         Cabo Verde                    CPV\n",
      "27                           Cambodia                    KHM\n",
      "28                           Cameroon                    CMR\n",
      "29                             Canada                    CAN\n",
      "30           Central African Republic                    CAF\n",
      "31                               Chad                    TCD\n",
      "32                              Chile                    CHL\n",
      "33                              China                    CHN\n",
      "34                           Colombia                    COL\n",
      "35                            Comoros                    COM\n",
      "36                         Costa Rica                    CRI\n",
      "37                      Côte d'Ivoire                    CIV\n",
      "38                            Croatia                    HRV\n",
      "39                               Cuba                    CUB\n",
      "40                             Cyprus                    CYP\n",
      "41                     Czech Republic                    CZE\n",
      "42       Democratic Republic of Congo                    COD\n",
      "43                            Denmark                    DNK\n",
      "44                           Djibouti                    DJI\n",
      "45                           Dominica                    DMA\n",
      "46                 Dominican Republic                    DOM\n",
      "47                            Ecuador                    ECU\n",
      "48                              Egypt                    EGY\n",
      "49                        El Salvador                    SLV\n",
      "50                  Equatorial Guinea                    GNQ\n",
      "51                            Eritrea                    ERI\n",
      "52                            Estonia                    EST\n",
      "53                           Ethiopia                    ETH\n",
      "54                               Fiji                    FJI\n",
      "55                            Finland                    FIN\n",
      "56                             France                    FRA\n",
      "57                              Gabon                    GAB\n",
      "58                            Georgia                    GEO\n",
      "59                            Germany                    DEU\n",
      "60                              Ghana                    GHA\n",
      "61                             Greece                    GRC\n",
      "62                          Guatemala                    GTM\n",
      "63                             Guinea                    GIN\n",
      "64                      Guinea-Bissau                    GNB\n",
      "65                             Guyana                    GUY\n",
      "66                              Haiti                    HTI\n",
      "67                           Honduras                    HND\n",
      "68                          Hong Kong                    HKG\n",
      "69                            Hungary                    HUN\n",
      "70                            Iceland                    ISL\n",
      "71                              India                    IND\n",
      "72                          Indonesia                    IDN\n",
      "73                               Iran                    IRN\n",
      "74                               Iraq                    IRQ\n",
      "75                            Ireland                    IRL\n",
      "76                             Israel                    ISR\n",
      "77                              Italy                    ITA\n",
      "78                            Jamaica                    JAM\n",
      "79                              Japan                    JPN\n",
      "80                             Jordan                    JOR\n",
      "81                         Kazakhstan                    KAZ\n",
      "82                              Kenya                    KEN\n",
      "83                           Kiribati                    KIR\n",
      "84                             Kosovo                 Kosovo\n",
      "85                             Kuwait                    KWT\n",
      "86                    Kyrgyz Republic                    KGZ\n",
      "87                               Laos                    LAO\n",
      "88                             Latvia                    LVA\n",
      "89                            Lebanon                    LBN\n",
      "90                            Lesotho                    LSO\n",
      "91                            Liberia                    LBR\n",
      "92                              Libya                    LBY\n",
      "93                      Liechtenstein                    LIE\n",
      "94                          Lithuania                    LTU\n",
      "95                         Luxembourg                    LUX\n",
      "96                              Macau                    MAC\n",
      "97                          Macedonia                    MKD\n",
      "98                         Madagascar                    MDG\n",
      "99                             Malawi                    MWI\n",
      "100                          Malaysia                    MYS\n",
      "101                          Maldives                    MDV\n",
      "102                              Mali                    MLI\n",
      "103                             Malta                    MLT\n",
      "104                        Mauritania                    MRT\n",
      "105                         Mauritius                    MUS\n",
      "106                            Mexico                    MEX\n",
      "107                        Micronesia                    FSM\n",
      "108                           Moldova                    MDA\n",
      "109                          Mongolia                    MNG\n",
      "110                        Montenegro                    MNE\n",
      "111                           Morocco                    MAR\n",
      "112                        Mozambique                    MOZ\n",
      "113                           Namibia                    NAM\n",
      "114                             Nepal                    NPL\n",
      "115                       New Zealand                    NZL\n",
      "116                         Nicaragua                    NIC\n",
      "117                             Niger                    NER\n",
      "118                           Nigeria                    NGA\n",
      "119                       North Korea                    PRK\n",
      "120                            Norway                    NOR\n",
      "121                              Oman                    OMN\n",
      "122                          Pakistan                    PAK\n",
      "123                            Panama                    PAN\n",
      "124                  Papua New Guinea                    PNG\n",
      "125                          Paraguay                    PRY\n",
      "126                              Peru                    PER\n",
      "127                       Philippines                    PHL\n",
      "128                            Poland                    POL\n",
      "129                          Portugal                    PRT\n",
      "130                             Qatar                    QAT\n",
      "131                 Republic of Congo                    COG\n",
      "132                           Romania                    ROU\n",
      "133                            Russia                    RUS\n",
      "134                            Rwanda                    RWA\n",
      "135                       Saint Lucia                    LCA\n",
      "136  Saint Vincent and the Grenadines                    VCT\n",
      "137                             Samoa                    WSM\n",
      "138             São Tomé and Príncipe  São Tomé and Príncipe\n",
      "139                      Saudi Arabia                    SAU\n",
      "140                           Senegal                    SEN\n",
      "141                            Serbia                    SRB\n",
      "142                        Seychelles                    SYC\n",
      "143                      Sierra Leone                    SLE\n",
      "144                         Singapore                    SGP\n",
      "145                          Slovakia                    SVK\n",
      "146                          Slovenia                    SVN\n",
      "147                   Solomon Islands                    SLB\n",
      "148                           Somalia                    SOM\n",
      "149                      South Africa                    ZAF\n",
      "150                       South Korea            South Korea\n",
      "151                             Spain                    ESP\n",
      "152                         Sri Lanka                    LKA\n",
      "153                             Sudan                    SDN\n",
      "154                          Suriname                    SUR\n",
      "155                         Swaziland                    SWZ\n",
      "156                            Sweden                    SWE\n",
      "157                       Switzerland                    CHE\n",
      "158                             Syria                    SYR\n",
      "159                            Taiwan                    TWN\n",
      "160                        Tajikistan                    TJK\n",
      "161                          Tanzania                    TZA\n",
      "162                          Thailand                    THA\n",
      "163                       The Bahamas                    BHS\n",
      "164                        The Gambia                    GMB\n",
      "165                   The Netherlands                    NLD\n",
      "166                       Timor-Leste                    TLS\n",
      "167                              Togo                    TGO\n",
      "168                             Tonga                    TON\n",
      "169               Trinidad and Tobago                    TTO\n",
      "170                           Tunisia                    TUN\n",
      "171                            Turkey                    TUR\n",
      "172                      Turkmenistan                    TKM\n",
      "173                            Uganda                    UGA\n",
      "174                           Ukraine                    UKR\n",
      "175              United Arab Emirates                    ARE\n",
      "176                    United Kingdom                    GBR\n",
      "177                     United States                    USA\n",
      "178                           Uruguay                    URY\n",
      "179                        Uzbekistan                    UZB\n",
      "180                           Vanuatu                    VUT\n",
      "181                         Venezuela                    VEN\n",
      "182                           Vietnam                    VNM\n",
      "183                             Yemen                    YEM\n",
      "184                            Zambia                    ZMB\n",
      "185                          Zimbabwe                    ZWE\n"
     ]
    }
   ],
   "source": [
    "print (data2016[['name','code']].to_string())"
   ]
  },
  {
   "cell_type": "markdown",
   "metadata": {},
   "source": [
    "It seems like the ISO-3 function does not work for three observation: Kosovo, São Tomé and Príncipe, and South Korea. The first two instances make sense since Kosovo does not have an official ISO-3 code yet, and São Tomé and Príncipe has accented characters which are not recognized by _countrycodes_. I do not know why South Korea does not work, though I suspect that _countrycodes_ only recognizes _Republic of South Korea_ which is a more official name. I manually input the codes for São Tomé and Príncipe and South Korea, and drop Kosovo from the data. Without an ISO-3 code, plotly would not recognize Kosovo's data anyhow. "
   ]
  },
  {
   "cell_type": "code",
   "execution_count": 6,
   "metadata": {
    "collapsed": false
   },
   "outputs": [
    {
     "name": "stderr",
     "output_type": "stream",
     "text": [
      "/Users/SupremeLeader/anaconda/lib/python2.7/site-packages/ipykernel/__main__.py:1: SettingWithCopyWarning: \n",
      "A value is trying to be set on a copy of a slice from a DataFrame\n",
      "\n",
      "See the caveats in the documentation: http://pandas.pydata.org/pandas-docs/stable/indexing.html#indexing-view-versus-copy\n",
      "  if __name__ == '__main__':\n",
      "/Users/SupremeLeader/anaconda/lib/python2.7/site-packages/pandas/core/generic.py:4485: SettingWithCopyWarning: \n",
      "A value is trying to be set on a copy of a slice from a DataFrame\n",
      "\n",
      "See the caveats in the documentation: http://pandas.pydata.org/pandas-docs/stable/indexing.html#indexing-view-versus-copy\n",
      "  self._update_inplace(new_data)\n",
      "/Users/SupremeLeader/anaconda/lib/python2.7/site-packages/IPython/core/interactiveshell.py:2885: SettingWithCopyWarning: \n",
      "A value is trying to be set on a copy of a slice from a DataFrame\n",
      "\n",
      "See the caveats in the documentation: http://pandas.pydata.org/pandas-docs/stable/indexing.html#indexing-view-versus-copy\n",
      "  exec(code_obj, self.user_global_ns, self.user_ns)\n",
      "/Users/SupremeLeader/anaconda/lib/python2.7/site-packages/ipykernel/__main__.py:2: SettingWithCopyWarning: \n",
      "A value is trying to be set on a copy of a slice from a DataFrame\n",
      "\n",
      "See the caveats in the documentation: http://pandas.pydata.org/pandas-docs/stable/indexing.html#indexing-view-versus-copy\n",
      "  from ipykernel import kernelapp as app\n"
     ]
    }
   ],
   "source": [
    "data2016['code'][data2016['code'] == \"São Tomé and Príncipe\"] = 'STP'\n",
    "data2016['code'][data2016['code'] == \"South Korea\"] = 'KOR'\n",
    "data2016 = data2016[data2016['code'] != 'Kosovo']"
   ]
  },
  {
   "cell_type": "markdown",
   "metadata": {},
   "source": [
    "The data is now ready for plotly. Set up API username and key."
   ]
  },
  {
   "cell_type": "code",
   "execution_count": 7,
   "metadata": {
    "collapsed": true
   },
   "outputs": [],
   "source": [
    "import plotly\n",
    "import plotly.plotly as py"
   ]
  },
  {
   "cell_type": "code",
   "execution_count": 8,
   "metadata": {
    "collapsed": false
   },
   "outputs": [],
   "source": [
    "plotly.tools.set_credentials_file(username='brickkiln', api_key='jd10b5299b')"
   ]
  },
  {
   "cell_type": "markdown",
   "metadata": {},
   "source": [
    "Using the sample code from plotly documentation, I test the function using only _overall score_ to see how compatible the data is to plotly."
   ]
  },
  {
   "cell_type": "code",
   "execution_count": 9,
   "metadata": {
    "collapsed": false
   },
   "outputs": [
    {
     "name": "stdout",
     "output_type": "stream",
     "text": [
      "High five! You successfuly sent some data to your account on plotly. View your plot in your browser at https://plot.ly/~brickkiln/0 or inside your plot.ly account where it is named 'd3-world-map'\n"
     ]
    },
    {
     "data": {
      "text/html": [
       "<iframe id=\"igraph\" scrolling=\"no\" style=\"border:none;\" seamless=\"seamless\" src=\"https://plot.ly/~brickkiln/0.embed\" height=\"525px\" width=\"100%\"></iframe>"
      ],
      "text/plain": [
       "<plotly.tools.PlotlyDisplay object>"
      ]
     },
     "execution_count": 9,
     "metadata": {},
     "output_type": "execute_result"
    }
   ],
   "source": [
    "data1 = [ dict(\n",
    "        type = 'choropleth',\n",
    "        locations = data2016['code'],\n",
    "        z = data2016['overall score'], # z is default for plotly.\n",
    "        text = data2016['name'],\n",
    "        autocolorscale = True,\n",
    "        marker = dict(\n",
    "            line = dict (\n",
    "                color = 'rgb(180,180,180)',\n",
    "                width = 1.0\n",
    "            ) ),\n",
    "        colorbar = dict(\n",
    "            ticksuffix = ' points',\n",
    "            title = 'Economic Freedom Index'),\n",
    "      ) ]\n",
    "\n",
    "layout = dict(\n",
    "    title = '2016 Index of Economic Freedom<br>Source:\\\n",
    "            <a href=\"http://www.heritage.org/index/\">\\\n",
    "            The Heritage Foundation</a>',\n",
    "    geo = dict(\n",
    "        showframe = False,\n",
    "        showcoastlines = False,\n",
    "        projection = dict(\n",
    "            type = 'orthographic'\n",
    "        )\n",
    "    )\n",
    ")\n",
    "\n",
    "fig = dict( data=data1, layout=layout )\n",
    "py.iplot( fig, validate=False, filename='d3-world-map' )"
   ]
  },
  {
   "cell_type": "markdown",
   "metadata": {},
   "source": [
    "This looks pretty good, but we can do better. The data cover 10 freedom indices, and this only shows the overall. Ideally, we should have a dropdown menu to let users visualize the freedom indice they want. These follwing codes attempt to do precisely that. Plotly works by data traces, thus we need to have one trace for each freedom we need to plot, and put them all in a list. We also need a button for each trace that enables the visibility of that particular trace and hides the rest. This is implemented as follow. "
   ]
  },
  {
   "cell_type": "code",
   "execution_count": 10,
   "metadata": {
    "collapsed": false
   },
   "outputs": [
    {
     "data": {
      "text/html": [
       "<iframe id=\"igraph\" scrolling=\"no\" style=\"border:none;\" seamless=\"seamless\" src=\"https://plot.ly/~brickkiln/115.embed\" height=\"525px\" width=\"100%\"></iframe>"
      ],
      "text/plain": [
       "<plotly.tools.PlotlyDisplay object>"
      ]
     },
     "execution_count": 10,
     "metadata": {},
     "output_type": "execute_result"
    }
   ],
   "source": [
    "import plotly.plotly as py\n",
    "from plotly.graph_objs import *\n",
    "\n",
    "\n",
    "trace1 = Choropleth(\n",
    "        locations = data2016['code'],\n",
    "        z = data2016['overall score'],\n",
    "        text = data2016['name'],\n",
    "        autocolorscale = True,\n",
    "        marker = dict(\n",
    "            line = dict (\n",
    "                color = 'rgb(180,180,180)',\n",
    "                width = 0.5\n",
    "            ) ),\n",
    "        colorbar = dict(\n",
    "            title = 'Index Scale'),\n",
    "      )\n",
    "\n",
    "trace2 = Choropleth(\n",
    "        locations = data2016['code'],\n",
    "        z = data2016['property rights'],\n",
    "        text = data2016['name'],\n",
    "        autocolorscale = True,\n",
    "        marker = dict(\n",
    "            line = dict (\n",
    "                color = 'rgb(180,180,180)',\n",
    "                width = 0.5\n",
    "            ) ),\n",
    "        colorbar = dict(\n",
    "            title = 'Index Scale'),\n",
    "      )\n",
    "\n",
    "trace3 = Choropleth(\n",
    "        locations = data2016['code'],\n",
    "        z = data2016['freedom from corruption'],\n",
    "        text = data2016['name'],\n",
    "        autocolorscale = True,\n",
    "        marker = dict(\n",
    "            line = dict (\n",
    "                color = 'rgb(180,180,180)',\n",
    "                width = 0.5\n",
    "            ) ),\n",
    "        colorbar = dict(\n",
    "            title = 'Index Scale'),\n",
    "      )\n",
    "\n",
    "trace4 = Choropleth(\n",
    "        locations = data2016['code'],\n",
    "        z = data2016['fiscal freedom'],\n",
    "        text = data2016['name'],\n",
    "        autocolorscale = True,\n",
    "        marker = dict(\n",
    "            line = dict (\n",
    "                color = 'rgb(180,180,180)',\n",
    "                width = 0.5\n",
    "            ) ),\n",
    "        colorbar = dict(\n",
    "            title = 'Index Scale'),\n",
    "      )\n",
    "\n",
    "trace5 = Choropleth(\n",
    "        locations = data2016['code'],\n",
    "        z = data2016['government spending'],\n",
    "        text = data2016['name'],\n",
    "        autocolorscale = True,\n",
    "        marker = dict(\n",
    "            line = dict (\n",
    "                color = 'rgb(180,180,180)',\n",
    "                width = 0.5\n",
    "            ) ),\n",
    "        colorbar = dict(\n",
    "            title = 'Index Scale'),\n",
    "      )\n",
    "\n",
    "trace6 = Choropleth(\n",
    "        locations = data2016['code'],\n",
    "        z = data2016['business freedom'],\n",
    "        text = data2016['name'],\n",
    "        autocolorscale = True,\n",
    "        marker = dict(\n",
    "            line = dict (\n",
    "                color = 'rgb(180,180,180)',\n",
    "                width = 0.5\n",
    "            ) ),\n",
    "        colorbar = dict(\n",
    "            title = 'Index Scale'),\n",
    "      )\n",
    "\n",
    "trace7 = Choropleth(\n",
    "        locations = data2016['code'],\n",
    "        z = data2016['labor freedom'],\n",
    "        text = data2016['name'],\n",
    "        autocolorscale = True,\n",
    "        marker = dict(\n",
    "            line = dict (\n",
    "                color = 'rgb(180,180,180)',\n",
    "                width = 0.5\n",
    "            ) ),\n",
    "        colorbar = dict(\n",
    "            title = 'Index Scale'),\n",
    "      )\n",
    "\n",
    "trace8 = Choropleth(\n",
    "        locations = data2016['code'],\n",
    "        z = data2016['monetary freedom'],\n",
    "        text = data2016['name'],\n",
    "        autocolorscale = True,\n",
    "        marker = dict(\n",
    "            line = dict (\n",
    "                color = 'rgb(180,180,180)',\n",
    "                width = 0.5\n",
    "            ) ),\n",
    "        colorbar = dict(\n",
    "            title = 'Index Scale'),\n",
    "      )\n",
    "\n",
    "trace9 = Choropleth(\n",
    "        locations = data2016['code'],\n",
    "        z = data2016['trade freedom'],\n",
    "        text = data2016['name'],\n",
    "        autocolorscale = True,\n",
    "        marker = dict(\n",
    "            line = dict (\n",
    "                color = 'rgb(180,180,180)',\n",
    "                width = 0.5\n",
    "            ) ),\n",
    "        colorbar = dict(\n",
    "            title = 'Index Scale'),\n",
    "      )\n",
    "\n",
    "trace10 = Choropleth(\n",
    "        locations = data2016['code'],\n",
    "        z = data2016['investment freedom'],\n",
    "        text = data2016['name'],\n",
    "        autocolorscale = True,\n",
    "        marker = dict(\n",
    "            line = dict (\n",
    "                color = 'rgb(180,180,180)',\n",
    "                width = 0.5\n",
    "            ) ),\n",
    "        colorbar = dict(\n",
    "            title = 'Index Scale'),\n",
    "      )\n",
    "\n",
    "trace11 = Choropleth(\n",
    "        locations = data2016['code'],\n",
    "        z = data2016['financial freedom'],\n",
    "        text = data2016['name'],\n",
    "        autocolorscale = True,\n",
    "        marker = dict(\n",
    "            line = dict (\n",
    "                color = 'rgb(180,180,180)',\n",
    "                width = 0.5\n",
    "            ) ),\n",
    "        colorbar = dict(\n",
    "            title = 'Index Scale'),\n",
    "      )\n",
    "\n",
    "data = Data([trace1, trace2, trace3, trace4, trace5, trace6, trace7, trace8, trace9, trace10, trace11])\n",
    "\n",
    "layout = Layout(\n",
    "    updatemenus=list([\n",
    "        dict(\n",
    "            x=-0.05,\n",
    "            y=1,\n",
    "            buttons=\n",
    "                list([\n",
    "                dict(\n",
    "                    args=['visible', [True, False, False, False, False, False, False, False, False, False, False]],\n",
    "                    label='overall score',\n",
    "                    method='restyle'\n",
    "                ),\n",
    "                dict(\n",
    "                    args=['visible', [False, True, False, False, False, False, False, False, False, False, False]],\n",
    "                    label='property rights',\n",
    "                    method='restyle'\n",
    "                ),\n",
    "                dict(\n",
    "                    args=['visible', [False, False, True, False, False, False, False, False, False, False, False]],\n",
    "                    label='freedom from corruption',\n",
    "                    method='restyle'\n",
    "                ),\n",
    "                dict(\n",
    "                    args=['visible', [False, False, False, True, False, False, False, False, False, False, False]],\n",
    "                    label='fiscal freedom',\n",
    "                    method='restyle'\n",
    "                ),\n",
    "                dict(\n",
    "                    args=['visible', [False, False, False, False, True, False, False, False, False, False, False]],\n",
    "                    label='government spending',\n",
    "                    method='restyle'\n",
    "                ),\n",
    "                dict(\n",
    "                    args=['visible', [False, False, False, False, False, True, False, False, False, False, False]],\n",
    "                    label='business freedom',\n",
    "                    method='restyle'\n",
    "                ),\n",
    "                dict(\n",
    "                    args=['visible', [False, False, False, False, False, False, True, False, False, False, False]],\n",
    "                    label='labor freedom',\n",
    "                    method='restyle'\n",
    "                ),\n",
    "                dict(\n",
    "                    args=['visible', [False, False, False, False, False, False, False, True, False, False, False]],\n",
    "                    label='monetary freedom',\n",
    "                    method='restyle'\n",
    "                ),\n",
    "                dict(\n",
    "                    args=['visible', [False, False, False, False, False, False, False, False, True, False, False]],\n",
    "                    label='trade freedom',\n",
    "                    method='restyle'\n",
    "                ),\n",
    "                dict(\n",
    "                    args=['visible', [False, False, False, False, False, False, False, False, False, True, False]],\n",
    "                    label='investment freedom',\n",
    "                    method='restyle'\n",
    "                ),\n",
    "                dict(\n",
    "                    args=['visible', [False, False, False, False, False, False, False, False, False, False, True]],\n",
    "                    label='financial freedom',\n",
    "                    method='restyle'\n",
    "                )\n",
    "            ]),\n",
    "            yanchor='top'\n",
    "        )\n",
    "    ]),\n",
    "    title = '2016 Index of Economic Freedom<br>Source:\\\n",
    "            <a href=\"http://www.heritage.org/index/\">\\\n",
    "            The Heritage Foundation</a>',\n",
    "    geo = dict(\n",
    "        showframe = False,\n",
    "        showcoastlines = False,\n",
    "        projection = dict(\n",
    "            type = 'orthographic'\n",
    "        )\n",
    "        ),\n",
    ")\n",
    "fig = Figure(data=data, layout=layout)\n",
    "py.iplot(fig)\n",
    "\n",
    "\n"
   ]
  },
  {
   "cell_type": "markdown",
   "metadata": {},
   "source": [
    "This works, but it is way too inefficient. The documentation does not explain how plotly could generate traces automatically from data columns. I figured this process could be done with a series of for loops, though this is rather complicated. There must be three loops altogether. The first one generates all the traces and put them in a dictionary with the keys being the name of the freedom and the objects being the codes generating the traces. The second append the objects of the dictionary in a data list that corresponds to the data generating function of plotly choropleth. Finally, the third one generates all the buttons for the layout."
   ]
  },
  {
   "cell_type": "markdown",
   "metadata": {},
   "source": [
    "First, generate the traces"
   ]
  },
  {
   "cell_type": "code",
   "execution_count": 11,
   "metadata": {
    "collapsed": true
   },
   "outputs": [],
   "source": [
    "import plotly.plotly as py\n",
    "from plotly.graph_objs import *\n",
    "\n",
    "trace = {}\n",
    "columnData = data2016.columns[2:13]\n",
    "\n",
    "for column in columnData:\n",
    "    trace[column] = Choropleth(\n",
    "        locations = data2016['code'],\n",
    "        z = data2016[column],\n",
    "        text = data2016['name'],\n",
    "        autocolorscale = True,\n",
    "        marker = dict(\n",
    "            line = dict (\n",
    "                color = 'rgb(180,180,180)',\n",
    "                width = 0.5\n",
    "            ) ),\n",
    "        colorbar = dict(\n",
    "            title = 'Index Scale'),\n",
    "      )\n",
    "\n",
    "dataList = []\n",
    "for key, obj in trace.iteritems():\n",
    "    dataList.append(obj)\n",
    "\n",
    "data = Data(dataList)\n",
    "lengthOfData = len(dataList)"
   ]
  },
  {
   "cell_type": "markdown",
   "metadata": {},
   "source": [
    "The first for loop returns a choropleth for each column and replaces _z_ with a new data column each loop. I included the variable _lengthOfData_ to be used later to generate a series of boolean values corresponding to the visibility of each data set when an option is selected in the drop down menu."
   ]
  },
  {
   "cell_type": "markdown",
   "metadata": {},
   "source": [
    "Now for the layout. I create an empty list for all the buttons. For each button, a list of False values is created with the same amount of element as the length of the dataList. This would hide all traces by default regardless of which option is selected in the dropdown menu. The value with the same index as the selected option however is then changed to True to display the trace. The list of all buttons is then appended to the buttons option in the layout function."
   ]
  },
  {
   "cell_type": "code",
   "execution_count": 12,
   "metadata": {
    "collapsed": false
   },
   "outputs": [
    {
     "data": {
      "text/html": [
       "<iframe id=\"igraph\" scrolling=\"no\" style=\"border:none;\" seamless=\"seamless\" src=\"https://plot.ly/~brickkiln/117.embed\" height=\"525px\" width=\"100%\"></iframe>"
      ],
      "text/plain": [
       "<plotly.tools.PlotlyDisplay object>"
      ]
     },
     "execution_count": 12,
     "metadata": {},
     "output_type": "execute_result"
    }
   ],
   "source": [
    "allButtons = []\n",
    "for index, column in enumerate(columnData):\n",
    "    trueFalseVis = [False] * lengthOfData\n",
    "    trueFalseVis[index] = True\n",
    "    allButtons.append(dict(\n",
    "                           args=['visible', trueFalseVis],\n",
    "                           label=column,\n",
    "                           method='restyle'\n",
    "                            ))\n",
    "\n",
    "layout = Layout(\n",
    "    updatemenus=list([\n",
    "        dict(\n",
    "            x=-0.05,\n",
    "            y=1,\n",
    "            buttons= list(allButtons),\n",
    "            yanchor='top'\n",
    "        ),\n",
    "        dict(\n",
    "            x=-0.05,\n",
    "            y=0.8,\n",
    "            buttons=list([\n",
    "                        dict(\n",
    "                        args=['projection.type', 'orthographic'],\n",
    "                        label='orthographic',\n",
    "                        method='restyle'\n",
    "                        ),\n",
    "                        dict(\n",
    "                        args=['projection.type', 'mercator'],\n",
    "                        label='mercator',\n",
    "                        method='restyle'\n",
    "                        )\n",
    "                    ]))\n",
    "    ]),\n",
    "    title = '2016 Index of Economic Freedom<br>Source:\\\n",
    "            <a href=\"http://www.heritage.org/index/\">\\\n",
    "            The Heritage Foundation</a>',\n",
    "    geo = dict(\n",
    "        showframe = False,\n",
    "        showcoastlines = False,\n",
    "        projection = dict(\n",
    "            type = 'orthographic'\n",
    "        )\n",
    "        ),\n",
    ")\n",
    "fig = Figure(data=data, layout=layout)\n",
    "py.iplot(fig)\n",
    "\n"
   ]
  },
  {
   "cell_type": "markdown",
   "metadata": {
    "collapsed": false
   },
   "source": [
    "There are a few things I have not managed to figure out. The first is that the numbers in the legend are multipled and jumbled up upon being generated, though this problem disappears when another option is selected from the dropdown menu. The second also concerns the legend. Even though all of our scores range from 0 to 100, the legend is generated differently each time for some unknown reason. The third problem concern the hover text. While in the trial graph, the text in the while box displays the ISO-3 code of the selected country, the text in the final graph displays the trace number instead. This is confusing and ideally should not be there at all, but I cannot find any option to turn it off. Lastly, I cannot figure out how to add another button to restyle the visualization from globe to map. It seems that arguments from buttons are automatically passed to data and I am not sure if there is a way to pass them to layout instead. I cannot confirm the possibility of this due to the lack of documentation and available examples for python plotly."
   ]
  },
  {
   "cell_type": "markdown",
   "metadata": {},
   "source": [
    "Still, I am quite satisfied with the visualization. It is generic enough now that it can be used with any data sets of similar structure by simply swapping the name of the data set and the title in the function, which I think is a significant improvement from what plotly has in their documentation. "
   ]
  },
  {
   "cell_type": "code",
   "execution_count": null,
   "metadata": {
    "collapsed": false
   },
   "outputs": [],
   "source": []
  },
  {
   "cell_type": "code",
   "execution_count": null,
   "metadata": {
    "collapsed": false
   },
   "outputs": [],
   "source": []
  },
  {
   "cell_type": "code",
   "execution_count": null,
   "metadata": {
    "collapsed": false
   },
   "outputs": [],
   "source": []
  },
  {
   "cell_type": "code",
   "execution_count": null,
   "metadata": {
    "collapsed": false
   },
   "outputs": [],
   "source": []
  },
  {
   "cell_type": "code",
   "execution_count": null,
   "metadata": {
    "collapsed": false
   },
   "outputs": [],
   "source": []
  },
  {
   "cell_type": "code",
   "execution_count": null,
   "metadata": {
    "collapsed": true
   },
   "outputs": [],
   "source": []
  }
 ],
 "metadata": {
  "anaconda-cloud": {},
  "kernelspec": {
   "display_name": "Python 2",
   "language": "python",
   "name": "python2"
  },
  "language_info": {
   "codemirror_mode": {
    "name": "ipython",
    "version": 2
   },
   "file_extension": ".py",
   "mimetype": "text/x-python",
   "name": "python",
   "nbconvert_exporter": "python",
   "pygments_lexer": "ipython2",
   "version": "2.7.13"
  }
 },
 "nbformat": 4,
 "nbformat_minor": 0
}
